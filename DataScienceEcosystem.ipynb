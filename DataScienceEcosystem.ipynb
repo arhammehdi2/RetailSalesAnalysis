{
  "nbformat": 4,
  "nbformat_minor": 0,
  "metadata": {
    "colab": {
      "provenance": [],
      "authorship_tag": "ABX9TyMp7foIy2U0u5YZ8sXTzrHi",
      "include_colab_link": true
    },
    "kernelspec": {
      "name": "python3",
      "display_name": "Python 3"
    },
    "language_info": {
      "name": "python"
    }
  },
  "cells": [
    {
      "cell_type": "markdown",
      "metadata": {
        "id": "view-in-github",
        "colab_type": "text"
      },
      "source": [
        "<a href=\"https://colab.research.google.com/github/arhammehdi2/RetailSalesAnalysis/blob/main/DataScienceEcosystem.ipynb\" target=\"_parent\"><img src=\"https://colab.research.google.com/assets/colab-badge.svg\" alt=\"Open In Colab\"/></a>"
      ]
    },
    {
      "cell_type": "markdown",
      "source": [
        "# Data Science Tools and Ecosystem"
      ],
      "metadata": {
        "id": "T1vPPMixF-JC"
      }
    },
    {
      "cell_type": "markdown",
      "source": [
        "In this notebook, Data Science Tools and Ecosystem are summarized."
      ],
      "metadata": {
        "id": "WgojZVE-GPLW"
      }
    },
    {
      "cell_type": "markdown",
      "source": [
        "**Objectives**:\n",
        "\n",
        "*   List popular languages in Data Science\n",
        "*   List popular libraries in Data Science\n",
        "*   Evaluate arithmetic expressions in Jupyter Notebook\n",
        "\n"
      ],
      "metadata": {
        "id": "RPeFWzB6JCto"
      }
    },
    {
      "cell_type": "markdown",
      "source": [
        "Some of the popular languages that Data Scientists use are:\n",
        "1.   Python\n",
        "2.   R\n",
        "3.   SQL"
      ],
      "metadata": {
        "id": "uCb1uNr9GSks"
      }
    },
    {
      "cell_type": "markdown",
      "source": [
        "Some of the commonly used libraries used by Data Scientists include:\n",
        "\n",
        "1.   Pandas\n",
        "2.   MatPlotLib\n",
        "3.   NumPy"
      ],
      "metadata": {
        "id": "u3h33_CeGiE_"
      }
    },
    {
      "cell_type": "code",
      "source": [
        "from IPython.display import HTML\n",
        "\n",
        "table_content = \"\"\"\n",
        "<table>\n",
        "  <tr>\n",
        "    <th>Data Science Tools</th>\n",
        "  </tr>\n",
        "  <tr>\n",
        "    <td>Tool 1</td>\n",
        "  </tr>\n",
        "  <tr>\n",
        "    <td>Tool 2</td>\n",
        "  </tr>\n",
        "  <tr>\n",
        "    <td>Tool 3</td>\n",
        "  </tr>\n",
        "</table>\n",
        "\"\"\"\n",
        "\n",
        "display(HTML(table_content))\n"
      ],
      "metadata": {
        "colab": {
          "base_uri": "https://localhost:8080/",
          "height": 103
        },
        "id": "nwc4foN2Hn37",
        "outputId": "6d6468e3-1290-4a08-d913-855076769ff7"
      },
      "execution_count": 2,
      "outputs": [
        {
          "output_type": "display_data",
          "data": {
            "text/plain": [
              "<IPython.core.display.HTML object>"
            ],
            "text/html": [
              "\n",
              "<table>\n",
              "  <tr>\n",
              "    <th>Data Science Tools</th>\n",
              "  </tr>\n",
              "  <tr>\n",
              "    <td>Tool 1</td>\n",
              "  </tr>\n",
              "  <tr>\n",
              "    <td>Tool 2</td>\n",
              "  </tr>\n",
              "  <tr>\n",
              "    <td>Tool 3</td>\n",
              "  </tr>\n",
              "</table>\n"
            ]
          },
          "metadata": {}
        }
      ]
    },
    {
      "cell_type": "markdown",
      "source": [
        "### Below are a few examples of evaluating arithmetic expressions in Python.\n"
      ],
      "metadata": {
        "id": "Bd4MnxHtIRPv"
      }
    },
    {
      "cell_type": "code",
      "source": [
        "# This is a simple arithmetic expression to multiply 3 by 4 and then add 5.\n",
        "result = (3 * 4) + 5\n",
        "result"
      ],
      "metadata": {
        "colab": {
          "base_uri": "https://localhost:8080/"
        },
        "id": "s_Q3rz22Ildw",
        "outputId": "11621833-891d-4db1-84bc-51e24cb501cb"
      },
      "execution_count": 3,
      "outputs": [
        {
          "output_type": "execute_result",
          "data": {
            "text/plain": [
              "17"
            ]
          },
          "metadata": {},
          "execution_count": 3
        }
      ]
    },
    {
      "cell_type": "code",
      "source": [
        "# This will convert 200 minutes to hours by dividing by 60.\n",
        "minutes = 200\n",
        "hours = minutes / 60\n",
        "hours"
      ],
      "metadata": {
        "colab": {
          "base_uri": "https://localhost:8080/"
        },
        "id": "ZWzH7CveIvOk",
        "outputId": "4e8cd83c-763a-494b-ef0e-78a60fdc33e5"
      },
      "execution_count": 4,
      "outputs": [
        {
          "output_type": "execute_result",
          "data": {
            "text/plain": [
              "3.3333333333333335"
            ]
          },
          "metadata": {},
          "execution_count": 4
        }
      ]
    },
    {
      "cell_type": "markdown",
      "source": [
        "## Author\n",
        "Arham"
      ],
      "metadata": {
        "id": "GYAgR8EyJedV"
      }
    }
  ]
}